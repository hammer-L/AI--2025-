{
 "cells": [
  {
   "cell_type": "code",
   "execution_count": 2,
   "id": "a14af2e6",
   "metadata": {},
   "outputs": [
    {
     "data": {
      "text/plain": [
       "0"
      ]
     },
     "execution_count": 2,
     "metadata": {},
     "output_type": "execute_result"
    }
   ],
   "source": [
    "import numpy as np\n",
    "\n",
    "def linear_layer(x, w, b):\n",
    "    pass\n",
    "\n",
    "def relu(x):\n",
    "    \"\"\"\n",
    "    对输入张量 x 执行元素级的 ReLU (Rectified Linear Unit) 操作。\n",
    "    公式为: f(x) = max(0, x)\n",
    "    \"\"\"\n",
    "    # ===== 在此实现 =====\n",
    "    # pass\n",
    "    if (x>0): return x\n",
    "    if (x<=0): return 0\n",
    "    \n",
    "\n",
    "def flatten(x):\n",
    "    \"\"\"\n",
    "    将一个四维张量 (N, C, H, W) 展平为一个二维张量 (N, C*H*W)。\n",
    "    N 是批量大小，需要保持不变。\n",
    "    \"\"\"\n",
    "    # ===== 在此实现 =====\n",
    "    N, C, H, W = x.shape\n",
    "    return x.reshape(N, C*H*W)\n",
    "\n",
    "relu (-100)   "
   ]
  },
  {
   "cell_type": "code",
   "execution_count": null,
   "id": "18f2c323",
   "metadata": {},
   "outputs": [],
   "source": []
  }
 ],
 "metadata": {
  "kernelspec": {
   "display_name": "Python 3 (ipykernel)",
   "language": "python",
   "name": "python3"
  },
  "language_info": {
   "codemirror_mode": {
    "name": "ipython",
    "version": 3
   },
   "file_extension": ".py",
   "mimetype": "text/x-python",
   "name": "python",
   "nbconvert_exporter": "python",
   "pygments_lexer": "ipython3",
   "version": "3.8.19"
  }
 },
 "nbformat": 4,
 "nbformat_minor": 5
}
